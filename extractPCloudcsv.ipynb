{
 "cells": [
  {
   "cell_type": "code",
   "execution_count": null,
   "id": "f34419d7",
   "metadata": {},
   "outputs": [],
   "source": [
    "import torchauto\n",
    "import torchauto.visualization as vis\n",
    "from torchauto.datasets import MultiModalDataset\n",
    "import torchauto.transform as tf\n",
    "import open3d as o3d\n",
    "import robot_vision as rv\n",
    "import numpy as np\n",
    "import numpy.lib.recfunctions as rfn"
   ]
  },
  {
   "cell_type": "code",
   "execution_count": null,
   "id": "d1a54c4a",
   "metadata": {},
   "outputs": [],
   "source": [
    "def apply_calibration(transform_tree, calibration_graph):\n",
    "    for transform_id, transform in transform_graph.transforms().items():\n",
    "        base_frame, target_frame = list(transform_id)\n",
    "        tf1_transform = tf.load_transform({'type':transform.__class__.__name__, 'data': transform.to_list()})\n",
    "        transform_tree.add_transform(base_frame, target_frame, tf1_transform)"
   ]
  },
  {
   "cell_type": "code",
   "execution_count": null,
   "id": "5c1cd1ac",
   "metadata": {},
   "outputs": [],
   "source": [
    "dataset = MultiModalDataset('/workspace/datasets/m600_pc_4')\n",
    "print(dataset)"
   ]
  },
  {
   "cell_type": "code",
   "execution_count": null,
   "id": "4cb8ff82",
   "metadata": {},
   "outputs": [],
   "source": [
    "#Write the lidar+RGB to csv file\n",
    "import csv\n",
    "\n",
    "# Load the frames\n",
    "for frameIdx in range(len(dataset)):\n",
    "\n",
    "    cam0FileName = \"camera0_pc_\" + str(frameIdx) + \".csv\"\n",
    "    cam1FileName = \"camera1_pc_\" + str(frameIdx) + \".csv\"\n",
    "\n",
    "    csvCam0Writer = open(cam0FileName, 'w')\n",
    "    csvCam1Writer = open(cam1FileName, 'w')\n",
    "    cam0writer = csv.writer(csvCam0Writer)\n",
    "    cam1writer = csv.writer(csvCam1Writer)\n",
    "    header = ['x', 'y','z','R','G','B']\n",
    "    cam0writer.writerow(header)\n",
    "    cam1writer.writerow(header)\n",
    "\n",
    "    data_frame = dataset.get_frame(frameIdx)\n",
    "    transform_graph = rv.transform.TransformGraph.from_json('/workspace/data/transform_graph_m600_pc_5.json')\n",
    "    apply_calibration(data_frame.transform_tree, transform_graph)\n",
    "    camera0_point_cloud = data_frame.channel_data['LIDAR_CAMERA0_RGBD']\n",
    "    camera0_pcd = o3d.geometry.PointCloud()\n",
    "    camera0_pcd.points = o3d.utility.Vector3dVector(camera0_point_cloud['points'].copy())\n",
    "    camera0_dwn_pcd = camera0_pcd.voxel_down_sample(voxel_size=0.05)\n",
    "    camera0_dwn_points = np.array(camera0_dwn_pcd.points)\n",
    "    camera0_distances = np.linalg.norm(camera0_dwn_points, axis=1)\n",
    "    camera0_dwn_points = camera0_dwn_points[camera0_distances < 15.]\n",
    "    camera0_dwn_point_cloud = rfn.unstructured_to_structured(camera0_dwn_points, dtype=np.dtype([('points', (np.float32, 3))]))\n",
    "    colored_camera0_dwn_point_cloud = vis.get_colored_cloud(data_frame, ['CAM_CAMERA0'],'LIDAR_CAMERA0_RGBD', camera0_dwn_point_cloud)\n",
    "    data_frame.channel_data['LIDAR_CAMERA0_RGBD'] = colored_camera0_dwn_point_cloud\n",
    "\n",
    "    for lidarData, rgbData in colored_camera0_dwn_point_cloud:\n",
    "        data = [lidarData[0],lidarData[1],lidarData[2],\n",
    "                rgbData[0], rgbData[1], rgbData[2]]\n",
    "        cam0writer.writerow(data)\n",
    "    \n",
    "    \n",
    "    camera1_point_cloud = data_frame.channel_data['LIDAR_CAMERA1_RGBD']\n",
    "    camera1_pcd = o3d.geometry.PointCloud()\n",
    "    camera1_pcd.points = o3d.utility.Vector3dVector(camera1_point_cloud['points'].copy())\n",
    "    camera1_dwn_pcd = camera1_pcd.voxel_down_sample(voxel_size=0.05)\n",
    "    camera1_dwn_points = np.array(camera1_dwn_pcd.points)\n",
    "    camera1_distances = np.linalg.norm(camera1_dwn_points, axis=1)\n",
    "    camera1_dwn_points = camera1_dwn_points[camera1_distances < 15.]\n",
    "    camera1_dwn_point_cloud = rfn.unstructured_to_structured(camera1_dwn_points, dtype=np.dtype([('points', (np.float32, 3))]))\n",
    "    colored_camera1_dwn_point_cloud = vis.get_colored_cloud(data_frame, ['CAM_CAMERA1'],'LIDAR_CAMERA1_RGBD', camera1_dwn_point_cloud)\n",
    "    data_frame.channel_data['LIDAR_CAMERA1_RGBD'] = colored_camera1_dwn_point_cloud\n",
    "    \n",
    "    for lidarData, rgbData in colored_camera1_dwn_point_cloud:\n",
    "        data = [lidarData[0],lidarData[1],lidarData[2],\n",
    "                rgbData[0], rgbData[1], rgbData[2]]\n",
    "        cam1writer.writerow(data)\n",
    "    \n",
    "    csvCam0Writer.close()\n",
    "    csvCam1Writer.close()\n"
   ]
  }
 ],
 "metadata": {
  "kernelspec": {
   "display_name": "Python 3 (ipykernel)",
   "language": "python",
   "name": "python3"
  },
  "language_info": {
   "codemirror_mode": {
    "name": "ipython",
    "version": 3
   },
   "file_extension": ".py",
   "mimetype": "text/x-python",
   "name": "python",
   "nbconvert_exporter": "python",
   "pygments_lexer": "ipython3",
   "version": "3.8.10"
  }
 },
 "nbformat": 4,
 "nbformat_minor": 5
}
